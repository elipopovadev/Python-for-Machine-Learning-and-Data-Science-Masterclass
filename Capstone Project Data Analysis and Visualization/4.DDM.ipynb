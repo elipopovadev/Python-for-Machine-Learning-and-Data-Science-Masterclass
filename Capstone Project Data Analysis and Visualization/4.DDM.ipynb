{
 "cells": [
  {
   "cell_type": "code",
   "execution_count": 1,
   "id": "478e2b7c",
   "metadata": {},
   "outputs": [
    {
     "name": "stdout",
     "output_type": "stream",
     "text": [
      "--Inputs for DDM--\n"
     ]
    },
    {
     "name": "stdin",
     "output_type": "stream",
     "text": [
      "Enter the number of years:  5\n",
      "Enter the dividend amount for this year:  4.3\n",
      "Enter the discount rate:  6\n",
      "Enter the growth rate:  1.5\n"
     ]
    }
   ],
   "source": [
    "print('--Inputs for DDM--')\n",
    "n = int(input('Enter the number of years: '))  # 5\n",
    "current_dividend = float(input('Enter the dividend amount for this year: '))  # 4.30 for BMW\n",
    "discount_rate = float(input('Enter the discount rate: '))  # 6\n",
    "growth_rate = float(input('Enter the growth rate: '))  # 1.5"
   ]
  },
  {
   "cell_type": "markdown",
   "id": "fd6276ce-6d23-4803-84ac-5d7fdc1bcaed",
   "metadata": {},
   "source": [
    "<font color='red'>----------------------------------------------------------------------------------------------------------------------------------------------------</font> \n",
    "<font color='red'>----------------------------------------------------------------------------------------------------------------------------------------------------</font> \n",
    "<font color='red'>----------------------------------------------------------------------------------------------------------------------------------------------------</font> "
   ]
  },
  {
   "cell_type": "code",
   "execution_count": 2,
   "id": "5bec37bd-5166-4565-81d5-f25d8600f4c5",
   "metadata": {},
   "outputs": [
    {
     "name": "stdout",
     "output_type": "stream",
     "text": [
      "Forecast future dividends for 5 years\n",
      "Future dividends at year 1: 4.36\n",
      "Future dividends at year 2: 4.5\n",
      "Future dividends at year 3: 4.7\n",
      "Future dividends at year 4: 4.99\n",
      "Future dividends at year 5: 5.38\n"
     ]
    }
   ],
   "source": [
    "print('Forecast future dividends for 5 years')\n",
    "dividends = []\n",
    "Do = current_dividend\n",
    "for t in range(1, n + 1):\n",
    "    Dt = Do* ((1 + growth_rate/100) ** t)\n",
    "    dividends.append(Dt)\n",
    "    print(f'Future dividends at year {t}: {round(Dt, 2)}')\n",
    "    Do = Dt"
   ]
  },
  {
   "cell_type": "code",
   "execution_count": 3,
   "id": "8706ca51-d657-4b75-812a-53a318476a4c",
   "metadata": {},
   "outputs": [
    {
     "name": "stdout",
     "output_type": "stream",
     "text": [
      "Calculate present value of each dividend\n",
      "Discounted dividends (5 years): [4.12, 4.0, 3.95, 3.95, 4.02]\n"
     ]
    }
   ],
   "source": [
    "print('Calculate present value of each dividend')\n",
    "discounted_dividends = [Dt / ((1 + discount_rate/100) ** t) for t, Dt in enumerate(dividends, start=1)]\n",
    "print(f\"Discounted dividends (5 years): {[round(d, 2) for d in discounted_dividends]}\")"
   ]
  },
  {
   "cell_type": "code",
   "execution_count": 4,
   "id": "ce0e6fd4-0c12-485f-9dad-55185bc5a276",
   "metadata": {},
   "outputs": [
    {
     "name": "stdout",
     "output_type": "stream",
     "text": [
      "Terminal value at end of the last year using Gordon Growth Model\n",
      "Discounted terminal value: 90.61\n"
     ]
    }
   ],
   "source": [
    "print('Terminal value at end of the last year using Gordon Growth Model')\n",
    "D_terminal = dividends[-1] * (1 + growth_rate/100)\n",
    "terminal_value = D_terminal / (discount_rate/100 - growth_rate/100)\n",
    "discounted_terminal_value = terminal_value / ((1 + discount_rate/100) ** n)\n",
    "print(f\"Discounted terminal value: {round(discounted_terminal_value, 2)}\")"
   ]
  },
  {
   "cell_type": "code",
   "execution_count": 6,
   "id": "b8ff628a-8ff0-4e1b-b203-6d80df9fa238",
   "metadata": {},
   "outputs": [
    {
     "name": "stdout",
     "output_type": "stream",
     "text": [
      "The Intrinsic Value per Share: $110.65\n"
     ]
    }
   ],
   "source": [
    "# Calculate total intrinsic value\n",
    "intrinsic_value = sum(discounted_dividends) + discounted_terminal_value\n",
    "print(f\"The Intrinsic Value per Share: ${round(intrinsic_value, 2)}\")"
   ]
  },
  {
   "cell_type": "markdown",
   "id": "a50ab63c-5f33-4175-8d4e-17e77cd8fcd2",
   "metadata": {},
   "source": [
    "<font color='red'>----------------------------------------------------------------------------------------------------------------------------------------------------</font> \n",
    "<font color='red'>----------------------------------------------------------------------------------------------------------------------------------------------------</font> \n",
    "<font color='red'>----------------------------------------------------------------------------------------------------------------------------------------------------</font> "
   ]
  },
  {
   "cell_type": "code",
   "execution_count": null,
   "id": "1075c535-caae-40d6-81d5-9b468c403fa3",
   "metadata": {},
   "outputs": [],
   "source": []
  }
 ],
 "metadata": {
  "kernelspec": {
   "display_name": "Python 3 (ipykernel)",
   "language": "python",
   "name": "python3"
  },
  "language_info": {
   "codemirror_mode": {
    "name": "ipython",
    "version": 3
   },
   "file_extension": ".py",
   "mimetype": "text/x-python",
   "name": "python",
   "nbconvert_exporter": "python",
   "pygments_lexer": "ipython3",
   "version": "3.12.3"
  }
 },
 "nbformat": 4,
 "nbformat_minor": 5
}
