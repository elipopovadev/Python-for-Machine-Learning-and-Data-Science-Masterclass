{
 "cells": [
  {
   "cell_type": "code",
   "execution_count": 1,
   "id": "a71b4f13",
   "metadata": {},
   "outputs": [],
   "source": [
    "def calculate_intrinsic_value(current_dividend, discount_rate, growth_rate):\n",
    "    \"\"\"\n",
    "    This function calculates the intrinsic value of a company using the Gordon Growth Model.\n",
    "    \n",
    "    Parameters:\n",
    "    current_dividend (float): The dividend amount for this year.\n",
    "    discount_rate (float): The required rate of return by the investor.\n",
    "    growth_rate (float): The rate at which dividends are expected to grow.\n",
    "\n",
    "    Returns:\n",
    "    float: The calculated intrinsic value of the company.\n",
    "    \"\"\"\n",
    "    # Ensure the discount rate is greater than the growth rate\n",
    "    assert discount_rate > growth_rate, \"Discount rate must be greater than growth rate for the model to be valid\"\n",
    "\n",
    "    # calculate next year's expected dividend \n",
    "    future_dividend = current_dividend * (1 + growth_rate) \n",
    "\n",
    "    # Calculate the intrinsic value\n",
    "    intrinsic_value = future_dividend  / (discount_rate - growth_rate)\n",
    "\n",
    "    return intrinsic_value"
   ]
  },
  {
   "cell_type": "code",
   "execution_count": 2,
   "id": "478e2b7c",
   "metadata": {},
   "outputs": [
    {
     "name": "stdout",
     "output_type": "stream",
     "text": [
      "--Inputs for DDM--\n"
     ]
    },
    {
     "name": "stdin",
     "output_type": "stream",
     "text": [
      "Enter the dividend amount for this year:  4.30\n",
      "Enter the discount rate:  0.07\n",
      "Enter the growth rate (in %):  0.02\n"
     ]
    }
   ],
   "source": [
    "print('--Inputs for DDM--')\n",
    "current_dividend = float(input('Enter the dividend amount for this year: '))  # 4.30 for BMW\n",
    "discount_rate = float(input('Enter the discount rate: '))  # 0.07\n",
    "growth_rate = float(input('Enter the growth rate: '))  # 0.02"
   ]
  },
  {
   "cell_type": "code",
   "execution_count": 3,
   "id": "f39a138d-15b5-4a54-bf72-d0a62264b2bf",
   "metadata": {},
   "outputs": [
    {
     "name": "stdout",
     "output_type": "stream",
     "text": [
      "The calculated intrinsic value of the stock is: $87.72\n"
     ]
    }
   ],
   "source": [
    "intrinsic_value = calculate_intrinsic_value(current_dividend, discount_rate, growth_rate) # VOW3.DE\n",
    "print(f\"The calculated intrinsic value of the stock is: ${intrinsic_value}\")"
   ]
  },
  {
   "cell_type": "markdown",
   "id": "a50ab63c-5f33-4175-8d4e-17e77cd8fcd2",
   "metadata": {},
   "source": [
    "<font color='red'>----------------------------------------------------------------------------------------------------------------------------------------------------</font> \n",
    "<font color='red'>----------------------------------------------------------------------------------------------------------------------------------------------------</font> \n",
    "<font color='red'>----------------------------------------------------------------------------------------------------------------------------------------------------</font> "
   ]
  },
  {
   "cell_type": "code",
   "execution_count": null,
   "id": "1075c535-caae-40d6-81d5-9b468c403fa3",
   "metadata": {},
   "outputs": [],
   "source": []
  }
 ],
 "metadata": {
  "kernelspec": {
   "display_name": "Python 3 (ipykernel)",
   "language": "python",
   "name": "python3"
  },
  "language_info": {
   "codemirror_mode": {
    "name": "ipython",
    "version": 3
   },
   "file_extension": ".py",
   "mimetype": "text/x-python",
   "name": "python",
   "nbconvert_exporter": "python",
   "pygments_lexer": "ipython3",
   "version": "3.12.3"
  }
 },
 "nbformat": 4,
 "nbformat_minor": 5
}
